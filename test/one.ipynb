{
 "cells": [
  {
   "cell_type": "code",
   "execution_count": null,
   "metadata": {},
   "outputs": [],
   "source": [
    "import argparse\n",
    "\n",
    "parser = argparse.ArgumentParser(\"Hyperparameters Setting for MADDPG and MATD3 in MPE environment\")\n",
    "parser.add_argument(\"--algorithm\", type=str, default=\"MATD3\", help=\"MADDPG or MATD3\")\n",
    "parser.add_argument(\"--buffer_size\", type=int, default=int(1e6), help=\"The capacity of the replay buffer\")\n",
    "\n",
    "args = parser.parse_args()\n",
    "print(args.algorithm)"
   ]
  },
  {
   "attachments": {},
   "cell_type": "markdown",
   "metadata": {},
   "source": [
    "list加法"
   ]
  },
  {
   "cell_type": "code",
   "execution_count": 1,
   "metadata": {},
   "outputs": [
    {
     "name": "stdout",
     "output_type": "stream",
     "text": [
      "[1, 2, 3, 4, 5, 6]\n"
     ]
    }
   ],
   "source": [
    "l1 = [1, 2, 3]\n",
    "l2 = [4, 5, 6]\n",
    "l3 = l1 + l2\n",
    "print(l3)"
   ]
  },
  {
   "cell_type": "code",
   "execution_count": 3,
   "metadata": {},
   "outputs": [
    {
     "name": "stdout",
     "output_type": "stream",
     "text": [
      "[5 7 9]\n",
      "[0. 0. 0.]\n"
     ]
    }
   ],
   "source": [
    "import numpy as np\n",
    "\n",
    "\n",
    "n1 = np.array([1, 2, 3])\n",
    "n2 = np.array([4, 5, 6])\n",
    "n3 = l1 + l2\n",
    "n0 = np.zeros(3)\n",
    "print(n3)\n",
    "print(n0)"
   ]
  },
  {
   "attachments": {},
   "cell_type": "markdown",
   "metadata": {},
   "source": [
    "list.append(list)"
   ]
  },
  {
   "cell_type": "code",
   "execution_count": 3,
   "metadata": {},
   "outputs": [
    {
     "name": "stdout",
     "output_type": "stream",
     "text": [
      "[tensor([[1., 2., 3.],\n",
      "        [4., 5., 6.],\n",
      "        [7., 8., 9.]])]\n",
      "tensor([[1., 2., 3.],\n",
      "        [4., 5., 6.],\n",
      "        [7., 8., 9.]])\n"
     ]
    }
   ],
   "source": [
    "import torch\n",
    "\n",
    "\n",
    "l1 = []\n",
    "l2 = [[1, 2, 3], [4, 5, 6], [7, 8, 9]]\n",
    "t1 = torch.tensor(l2, dtype=torch.float32)\n",
    "l1.append(t1)\n",
    "actor_inputs = torch.cat([x for x in l1], dim=-1)\n",
    "print(l1)\n",
    "print(actor_inputs)"
   ]
  }
 ],
 "metadata": {
  "kernelspec": {
   "display_name": "CXPyTorch",
   "language": "python",
   "name": "python3"
  },
  "language_info": {
   "codemirror_mode": {
    "name": "ipython",
    "version": 3
   },
   "file_extension": ".py",
   "mimetype": "text/x-python",
   "name": "python",
   "nbconvert_exporter": "python",
   "pygments_lexer": "ipython3",
   "version": "3.10.8"
  },
  "orig_nbformat": 4
 },
 "nbformat": 4,
 "nbformat_minor": 2
}
